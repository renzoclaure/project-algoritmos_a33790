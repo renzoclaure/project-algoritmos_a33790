{
 "cells": [
  {
   "cell_type": "markdown",
   "metadata": {},
   "source": [
    "# Notebook to extract climate data and load Uber H3 polygons."
   ]
  },
  {
   "cell_type": "code",
   "execution_count": 175,
   "metadata": {},
   "outputs": [],
   "source": [
    "import pandas as pd \n",
    "import numpy as np\n",
    "import matplotlib.pyplot as plt\n",
    "import h3\n",
    "import folium\n",
    "from folium.plugins import HeatMap\n",
    "from typing import List, Union, Optional\n",
    "from pathlib import Path\n",
    "from datetime import date, datetime\n",
    "import requests\n",
    "import os"
   ]
  },
  {
   "cell_type": "markdown",
   "metadata": {},
   "source": [
    "##  Data"
   ]
  },
  {
   "cell_type": "code",
   "execution_count": null,
   "metadata": {},
   "outputs": [],
   "source": [
    "#Jaguar's Data'\n",
    "df = pd.read_csv('jaguar_movement_data.csv')"
   ]
  },
  {
   "cell_type": "code",
   "execution_count": 177,
   "metadata": {},
   "outputs": [
    {
     "data": {
      "text/plain": [
       "Index(['Event_ID', 'timestamp', 'location.long', 'location.lat',\n",
       "       'individual.taxon.canonical.name', 'tag.local.identifier',\n",
       "       'individual.local.identifier (ID)', 'study.name', 'country'],\n",
       "      dtype='object')"
      ]
     },
     "execution_count": 177,
     "metadata": {},
     "output_type": "execute_result"
    }
   ],
   "source": [
    "df.columns"
   ]
  },
  {
   "cell_type": "code",
   "execution_count": 178,
   "metadata": {},
   "outputs": [],
   "source": [
    "df.rename(columns={\n",
    "    'location.long': 'location_long', \n",
    "    'location.lat': 'location_lat',\n",
    "    'individual.taxon.canonical.name': 'canonical_taxonomy',\n",
    "    'individual.local.identifier (ID)': 'ID_individual_identifier',\n",
    "    'study.name': 'study_name',\n",
    "    'tag.local.identifier': 'tag_local_identifier',\n",
    "  \n",
    "    }, inplace=True)"
   ]
  },
  {
   "cell_type": "markdown",
   "metadata": {},
   "source": [
    "### Aplying H3 Polygons"
   ]
  },
  {
   "cell_type": "code",
   "execution_count": null,
   "metadata": {},
   "outputs": [],
   "source": [
    "#import h3\n",
    "\n",
    "#Polygons H· (8[0.72Km^2] y 6[36Km^2] )\n",
    "df['polygon_8'] = df.apply(lambda row: h3.latlng_to_cell(row['location_lat'], row['location_long'], 8), axis=1)\n",
    "df['polygon_6'] = df.apply(lambda row: h3.latlng_to_cell(row['location_lat'], row['location_long'], 6), axis=1)"
   ]
  },
  {
   "cell_type": "code",
   "execution_count": 182,
   "metadata": {},
   "outputs": [],
   "source": [
    "df[\"timestamp\"] = pd.to_datetime(df[\"timestamp\"], format=\"%m/%d/%y %H:%M\")"
   ]
  },
  {
   "cell_type": "code",
   "execution_count": 183,
   "metadata": {},
   "outputs": [],
   "source": [
    "df['timestamp_D'] = df['timestamp'].dt.floor(\"D\")"
   ]
  },
  {
   "cell_type": "markdown",
   "metadata": {},
   "source": [
    "### Wheather Data Extraction Function"
   ]
  },
  {
   "cell_type": "code",
   "execution_count": null,
   "metadata": {},
   "outputs": [],
   "source": [
    "import requests\n",
    "import pandas as pd\n",
    "import time\n",
    "from datetime import datetime\n",
    "\n",
    "def get_weather_data(lat: float, lon: float, date: datetime):\n",
    "    \"\"\"\n",
    "    Queries the NASA POWER API to fetch daily weather data.\n",
    "    \"\"\"\n",
    "    url = \"https://power.larc.nasa.gov/api/temporal/daily/point?\"\n",
    "    params = {\n",
    "        \"parameters\": \"T2M,RH2M,WS10M,PS,PRECTOTCORR\",\n",
    "        \"community\": \"RE\",\n",
    "        \"longitude\": lon,\n",
    "        \"latitude\": lat,\n",
    "        \"start\": date.strftime(\"%Y%m%d\"),\n",
    "        \"end\": date.strftime(\"%Y%m%d\"),\n",
    "        \"format\": \"JSON\"\n",
    "    }\n",
    "    try:\n",
    "        response = requests.get(url, params=params)\n",
    "        if response.status_code == 200:\n",
    "            data = response.json()\n",
    "            return data[\"properties\"][\"parameter\"]\n",
    "        else:\n",
    "            print(f\"Error in the query: {response.status_code}\")\n",
    "            return None\n",
    "    except Exception as e:\n",
    "        print(f\"Exception in the query: {e}\")\n",
    "        return None\n",
    "\n",
    "def fetch_weather_in_batches(df, batch_size=100, output_file='weather_data.csv'):\n",
    "    \"\"\"\n",
    "    Performs queries in batches and progressively saves the results.\n",
    "    \"\"\"\n",
    "    weather_data_list = []\n",
    "    total_rows = len(df)\n",
    "    \n",
    "    for i in range(0, total_rows, batch_size):\n",
    "        batch = df.iloc[i:i+batch_size]\n",
    "        temp_results = []\n",
    "        \n",
    "        for _, row in batch.iterrows():\n",
    "            weather_data = get_weather_data(row['location_lat'], row['location_long'], row['timestamp_D'])\n",
    "            if weather_data:\n",
    "                weather_data['location_lat'] = row['location_lat']\n",
    "                weather_data['location_long'] = row['location_long']\n",
    "                weather_data['timestamp_D'] = row['timestamp_D']\n",
    "                temp_results.append(weather_data)\n",
    "            time.sleep(1)  # Prevents overloading the API\n",
    "        \n",
    "        if temp_results:\n",
    "            temp_df = pd.DataFrame(temp_results)\n",
    "            temp_df.to_csv(output_file, mode='a', index=False, header=not bool(i))  # Saves data progressively\n",
    "            print(f\"Saved block {i} - {i+batch_size} to {output_file}\")\n",
    "        \n",
    "    print(\"Process completed\")\n",
    "\n",
    "# Assume df_4 is already loaded and contains the columns 'latitude', 'longitude', and 'date'\n",
    "fetch_weather_in_batches(df)"
   ]
  }
 ],
 "metadata": {
  "kernelspec": {
   "display_name": "Python 3",
   "language": "python",
   "name": "python3"
  },
  "language_info": {
   "codemirror_mode": {
    "name": "ipython",
    "version": 3
   },
   "file_extension": ".py",
   "mimetype": "text/x-python",
   "name": "python",
   "nbconvert_exporter": "python",
   "pygments_lexer": "ipython3",
   "version": "3.13.1"
  }
 },
 "nbformat": 4,
 "nbformat_minor": 2
}
